{
 "cells": [
  {
   "cell_type": "code",
   "execution_count": null,
   "id": "b77d7f24",
   "metadata": {},
   "outputs": [],
   "source": [
    "#Part 1:\n",
    "#Use proper data cleansing techniques to ensure that you have the highest quality data to model this problem. \n",
    "#Detail your process and discuss the decisions you made to clean the data."
   ]
  },
  {
   "cell_type": "code",
   "execution_count": 1,
   "id": "66162bc3",
   "metadata": {},
   "outputs": [],
   "source": [
    "import pandas as pd\n",
    "import numpy as np\n",
    "import matplotlib.pyplot as plt"
   ]
  },
  {
   "cell_type": "code",
   "execution_count": 2,
   "id": "ef420653",
   "metadata": {},
   "outputs": [],
   "source": [
    "#Load dataset\n",
    "df = pd.read_csv('/Users/kejiangyao/Desktop/ALY 6020/Module 2/car.csv')"
   ]
  },
  {
   "cell_type": "code",
   "execution_count": 3,
   "id": "620dc445",
   "metadata": {},
   "outputs": [
    {
     "data": {
      "text/html": [
       "<div>\n",
       "<style scoped>\n",
       "    .dataframe tbody tr th:only-of-type {\n",
       "        vertical-align: middle;\n",
       "    }\n",
       "\n",
       "    .dataframe tbody tr th {\n",
       "        vertical-align: top;\n",
       "    }\n",
       "\n",
       "    .dataframe thead th {\n",
       "        text-align: right;\n",
       "    }\n",
       "</style>\n",
       "<table border=\"1\" class=\"dataframe\">\n",
       "  <thead>\n",
       "    <tr style=\"text-align: right;\">\n",
       "      <th></th>\n",
       "      <th>MPG</th>\n",
       "      <th>Cylinders</th>\n",
       "      <th>Displacement</th>\n",
       "      <th>Horsepower</th>\n",
       "      <th>Weight</th>\n",
       "      <th>Acceleration</th>\n",
       "      <th>Model Year</th>\n",
       "      <th>US Made</th>\n",
       "    </tr>\n",
       "  </thead>\n",
       "  <tbody>\n",
       "    <tr>\n",
       "      <th>0</th>\n",
       "      <td>18.0</td>\n",
       "      <td>8</td>\n",
       "      <td>307.0</td>\n",
       "      <td>130</td>\n",
       "      <td>3504</td>\n",
       "      <td>12.0</td>\n",
       "      <td>70</td>\n",
       "      <td>1</td>\n",
       "    </tr>\n",
       "    <tr>\n",
       "      <th>1</th>\n",
       "      <td>15.0</td>\n",
       "      <td>8</td>\n",
       "      <td>350.0</td>\n",
       "      <td>165</td>\n",
       "      <td>3693</td>\n",
       "      <td>11.5</td>\n",
       "      <td>70</td>\n",
       "      <td>1</td>\n",
       "    </tr>\n",
       "    <tr>\n",
       "      <th>2</th>\n",
       "      <td>18.0</td>\n",
       "      <td>8</td>\n",
       "      <td>318.0</td>\n",
       "      <td>150</td>\n",
       "      <td>3436</td>\n",
       "      <td>11.0</td>\n",
       "      <td>70</td>\n",
       "      <td>1</td>\n",
       "    </tr>\n",
       "    <tr>\n",
       "      <th>3</th>\n",
       "      <td>16.0</td>\n",
       "      <td>8</td>\n",
       "      <td>304.0</td>\n",
       "      <td>150</td>\n",
       "      <td>3433</td>\n",
       "      <td>12.0</td>\n",
       "      <td>70</td>\n",
       "      <td>1</td>\n",
       "    </tr>\n",
       "    <tr>\n",
       "      <th>4</th>\n",
       "      <td>17.0</td>\n",
       "      <td>8</td>\n",
       "      <td>302.0</td>\n",
       "      <td>140</td>\n",
       "      <td>3449</td>\n",
       "      <td>10.5</td>\n",
       "      <td>70</td>\n",
       "      <td>1</td>\n",
       "    </tr>\n",
       "  </tbody>\n",
       "</table>\n",
       "</div>"
      ],
      "text/plain": [
       "    MPG  Cylinders  Displacement Horsepower  Weight  Acceleration  Model Year  \\\n",
       "0  18.0          8         307.0        130    3504          12.0          70   \n",
       "1  15.0          8         350.0        165    3693          11.5          70   \n",
       "2  18.0          8         318.0        150    3436          11.0          70   \n",
       "3  16.0          8         304.0        150    3433          12.0          70   \n",
       "4  17.0          8         302.0        140    3449          10.5          70   \n",
       "\n",
       "   US Made  \n",
       "0        1  \n",
       "1        1  \n",
       "2        1  \n",
       "3        1  \n",
       "4        1  "
      ]
     },
     "execution_count": 3,
     "metadata": {},
     "output_type": "execute_result"
    }
   ],
   "source": [
    "df.head()"
   ]
  },
  {
   "cell_type": "code",
   "execution_count": 4,
   "id": "0e7f181d",
   "metadata": {},
   "outputs": [
    {
     "name": "stdout",
     "output_type": "stream",
     "text": [
      "<class 'pandas.core.frame.DataFrame'>\n",
      "RangeIndex: 398 entries, 0 to 397\n",
      "Data columns (total 8 columns):\n",
      " #   Column        Non-Null Count  Dtype  \n",
      "---  ------        --------------  -----  \n",
      " 0   MPG           398 non-null    float64\n",
      " 1   Cylinders     398 non-null    int64  \n",
      " 2   Displacement  398 non-null    float64\n",
      " 3   Horsepower    398 non-null    object \n",
      " 4   Weight        398 non-null    int64  \n",
      " 5   Acceleration  398 non-null    float64\n",
      " 6   Model Year    398 non-null    int64  \n",
      " 7   US Made       398 non-null    int64  \n",
      "dtypes: float64(3), int64(4), object(1)\n",
      "memory usage: 25.0+ KB\n"
     ]
    }
   ],
   "source": [
    "df.info()"
   ]
  },
  {
   "cell_type": "code",
   "execution_count": 7,
   "id": "544244d5",
   "metadata": {},
   "outputs": [],
   "source": [
    "#Convert ? to Null\n",
    "df = df.replace('?',np.nan)"
   ]
  },
  {
   "cell_type": "code",
   "execution_count": 8,
   "id": "bee63de3",
   "metadata": {},
   "outputs": [
    {
     "name": "stdout",
     "output_type": "stream",
     "text": [
      "              0\n",
      "MPG           0\n",
      "Cylinders     0\n",
      "Displacement  0\n",
      "Horsepower    6\n",
      "Weight        0\n",
      "Acceleration  0\n",
      "Model Year    0\n",
      "US Made       0\n"
     ]
    }
   ],
   "source": [
    "print(pd.DataFrame(df.isnull().sum()))"
   ]
  },
  {
   "cell_type": "code",
   "execution_count": 12,
   "id": "1308224a",
   "metadata": {},
   "outputs": [
    {
     "name": "stdout",
     "output_type": "stream",
     "text": [
      "<class 'pandas.core.frame.DataFrame'>\n",
      "RangeIndex: 398 entries, 0 to 397\n",
      "Data columns (total 8 columns):\n",
      " #   Column        Non-Null Count  Dtype  \n",
      "---  ------        --------------  -----  \n",
      " 0   MPG           398 non-null    float64\n",
      " 1   Cylinders     398 non-null    int64  \n",
      " 2   Displacement  398 non-null    float64\n",
      " 3   Horsepower    392 non-null    object \n",
      " 4   Weight        398 non-null    int64  \n",
      " 5   Acceleration  398 non-null    float64\n",
      " 6   Model Year    398 non-null    int64  \n",
      " 7   US Made       398 non-null    int64  \n",
      "dtypes: float64(3), int64(4), object(1)\n",
      "memory usage: 25.0+ KB\n"
     ]
    }
   ],
   "source": [
    "df.info()"
   ]
  },
  {
   "cell_type": "code",
   "execution_count": 13,
   "id": "4e79e280",
   "metadata": {},
   "outputs": [],
   "source": [
    "#drop all records with at least 1 na value\n",
    "df = df.dropna()"
   ]
  },
  {
   "cell_type": "code",
   "execution_count": 14,
   "id": "00e8a923",
   "metadata": {},
   "outputs": [],
   "source": [
    "df = df.astype('int64')"
   ]
  },
  {
   "cell_type": "code",
   "execution_count": 15,
   "id": "c7481cf4",
   "metadata": {},
   "outputs": [
    {
     "name": "stdout",
     "output_type": "stream",
     "text": [
      "<class 'pandas.core.frame.DataFrame'>\n",
      "Int64Index: 392 entries, 0 to 397\n",
      "Data columns (total 8 columns):\n",
      " #   Column        Non-Null Count  Dtype\n",
      "---  ------        --------------  -----\n",
      " 0   MPG           392 non-null    int64\n",
      " 1   Cylinders     392 non-null    int64\n",
      " 2   Displacement  392 non-null    int64\n",
      " 3   Horsepower    392 non-null    int64\n",
      " 4   Weight        392 non-null    int64\n",
      " 5   Acceleration  392 non-null    int64\n",
      " 6   Model Year    392 non-null    int64\n",
      " 7   US Made       392 non-null    int64\n",
      "dtypes: int64(8)\n",
      "memory usage: 27.6 KB\n"
     ]
    }
   ],
   "source": [
    "df.info()"
   ]
  },
  {
   "cell_type": "code",
   "execution_count": 16,
   "id": "b6627ca5",
   "metadata": {},
   "outputs": [
    {
     "data": {
      "text/html": [
       "<div>\n",
       "<style scoped>\n",
       "    .dataframe tbody tr th:only-of-type {\n",
       "        vertical-align: middle;\n",
       "    }\n",
       "\n",
       "    .dataframe tbody tr th {\n",
       "        vertical-align: top;\n",
       "    }\n",
       "\n",
       "    .dataframe thead th {\n",
       "        text-align: right;\n",
       "    }\n",
       "</style>\n",
       "<table border=\"1\" class=\"dataframe\">\n",
       "  <thead>\n",
       "    <tr style=\"text-align: right;\">\n",
       "      <th></th>\n",
       "      <th>MPG</th>\n",
       "      <th>Cylinders</th>\n",
       "      <th>Displacement</th>\n",
       "      <th>Horsepower</th>\n",
       "      <th>Weight</th>\n",
       "      <th>Acceleration</th>\n",
       "      <th>Model Year</th>\n",
       "      <th>US Made</th>\n",
       "    </tr>\n",
       "  </thead>\n",
       "  <tbody>\n",
       "    <tr>\n",
       "      <th>count</th>\n",
       "      <td>392.000000</td>\n",
       "      <td>392.000000</td>\n",
       "      <td>392.000000</td>\n",
       "      <td>392.000000</td>\n",
       "      <td>392.000000</td>\n",
       "      <td>392.000000</td>\n",
       "      <td>392.000000</td>\n",
       "      <td>392.000000</td>\n",
       "    </tr>\n",
       "    <tr>\n",
       "      <th>mean</th>\n",
       "      <td>23.283163</td>\n",
       "      <td>5.471939</td>\n",
       "      <td>194.410714</td>\n",
       "      <td>104.469388</td>\n",
       "      <td>2977.584184</td>\n",
       "      <td>15.186224</td>\n",
       "      <td>75.979592</td>\n",
       "      <td>0.625000</td>\n",
       "    </tr>\n",
       "    <tr>\n",
       "      <th>std</th>\n",
       "      <td>7.745896</td>\n",
       "      <td>1.705783</td>\n",
       "      <td>104.645191</td>\n",
       "      <td>38.491160</td>\n",
       "      <td>849.402560</td>\n",
       "      <td>2.743700</td>\n",
       "      <td>3.683737</td>\n",
       "      <td>0.484742</td>\n",
       "    </tr>\n",
       "    <tr>\n",
       "      <th>min</th>\n",
       "      <td>9.000000</td>\n",
       "      <td>3.000000</td>\n",
       "      <td>68.000000</td>\n",
       "      <td>46.000000</td>\n",
       "      <td>1613.000000</td>\n",
       "      <td>8.000000</td>\n",
       "      <td>70.000000</td>\n",
       "      <td>0.000000</td>\n",
       "    </tr>\n",
       "    <tr>\n",
       "      <th>25%</th>\n",
       "      <td>17.000000</td>\n",
       "      <td>4.000000</td>\n",
       "      <td>105.000000</td>\n",
       "      <td>75.000000</td>\n",
       "      <td>2225.250000</td>\n",
       "      <td>13.000000</td>\n",
       "      <td>73.000000</td>\n",
       "      <td>0.000000</td>\n",
       "    </tr>\n",
       "    <tr>\n",
       "      <th>50%</th>\n",
       "      <td>22.500000</td>\n",
       "      <td>4.000000</td>\n",
       "      <td>151.000000</td>\n",
       "      <td>93.500000</td>\n",
       "      <td>2803.500000</td>\n",
       "      <td>15.000000</td>\n",
       "      <td>76.000000</td>\n",
       "      <td>1.000000</td>\n",
       "    </tr>\n",
       "    <tr>\n",
       "      <th>75%</th>\n",
       "      <td>29.000000</td>\n",
       "      <td>8.000000</td>\n",
       "      <td>275.750000</td>\n",
       "      <td>126.000000</td>\n",
       "      <td>3614.750000</td>\n",
       "      <td>17.000000</td>\n",
       "      <td>79.000000</td>\n",
       "      <td>1.000000</td>\n",
       "    </tr>\n",
       "    <tr>\n",
       "      <th>max</th>\n",
       "      <td>46.000000</td>\n",
       "      <td>8.000000</td>\n",
       "      <td>455.000000</td>\n",
       "      <td>230.000000</td>\n",
       "      <td>5140.000000</td>\n",
       "      <td>24.000000</td>\n",
       "      <td>82.000000</td>\n",
       "      <td>1.000000</td>\n",
       "    </tr>\n",
       "  </tbody>\n",
       "</table>\n",
       "</div>"
      ],
      "text/plain": [
       "              MPG   Cylinders  Displacement  Horsepower       Weight  \\\n",
       "count  392.000000  392.000000    392.000000  392.000000   392.000000   \n",
       "mean    23.283163    5.471939    194.410714  104.469388  2977.584184   \n",
       "std      7.745896    1.705783    104.645191   38.491160   849.402560   \n",
       "min      9.000000    3.000000     68.000000   46.000000  1613.000000   \n",
       "25%     17.000000    4.000000    105.000000   75.000000  2225.250000   \n",
       "50%     22.500000    4.000000    151.000000   93.500000  2803.500000   \n",
       "75%     29.000000    8.000000    275.750000  126.000000  3614.750000   \n",
       "max     46.000000    8.000000    455.000000  230.000000  5140.000000   \n",
       "\n",
       "       Acceleration  Model Year     US Made  \n",
       "count    392.000000  392.000000  392.000000  \n",
       "mean      15.186224   75.979592    0.625000  \n",
       "std        2.743700    3.683737    0.484742  \n",
       "min        8.000000   70.000000    0.000000  \n",
       "25%       13.000000   73.000000    0.000000  \n",
       "50%       15.000000   76.000000    1.000000  \n",
       "75%       17.000000   79.000000    1.000000  \n",
       "max       24.000000   82.000000    1.000000  "
      ]
     },
     "execution_count": 16,
     "metadata": {},
     "output_type": "execute_result"
    }
   ],
   "source": [
    "df.describe()"
   ]
  },
  {
   "cell_type": "code",
   "execution_count": 18,
   "id": "cea8ed84",
   "metadata": {},
   "outputs": [
    {
     "data": {
      "image/png": "[encoded data removed]",
      "text/plain": [
       "<Figure size 1440x720 with 8 Axes>"
      ]
     },
     "metadata": {
      "needs_background": "light"
     },
     "output_type": "display_data"
    }
   ],
   "source": [
    "#Creating subplot of each column with its own scale\n",
    "red_circle = dict(markerfacecolor='red', marker='o', markeredgecolor='white')\n",
    "\n",
    "fig, axs = plt.subplots(1, len(df.columns), figsize=(20,10))\n",
    "\n",
    "for i, ax in enumerate(axs.flat):\n",
    "    ax.boxplot(df.iloc[:,i], flierprops=red_circle)\n",
    "    ax.set_title(df.columns[i], fontsize=20, fontweight='bold')\n",
    "    ax.tick_params(axis='y', labelsize=14)\n",
    "    \n",
    "plt.tight_layout()"
   ]
  },
  {
   "cell_type": "code",
   "execution_count": 19,
   "id": "ec2292ee",
   "metadata": {},
   "outputs": [],
   "source": [
    "#Removing outliers from Horsepower and Acceleration\n",
    "df = df[df.Horsepower <= 200]\n",
    "df = df[df.Acceleration <=23]"
   ]
  },
  {
   "cell_type": "code",
   "execution_count": 20,
   "id": "5bf49b6a",
   "metadata": {},
   "outputs": [
    {
     "data": {
      "text/html": [
       "<div>\n",
       "<style scoped>\n",
       "    .dataframe tbody tr th:only-of-type {\n",
       "        vertical-align: middle;\n",
       "    }\n",
       "\n",
       "    .dataframe tbody tr th {\n",
       "        vertical-align: top;\n",
       "    }\n",
       "\n",
       "    .dataframe thead th {\n",
       "        text-align: right;\n",
       "    }\n",
       "</style>\n",
       "<table border=\"1\" class=\"dataframe\">\n",
       "  <thead>\n",
       "    <tr style=\"text-align: right;\">\n",
       "      <th></th>\n",
       "      <th>MPG</th>\n",
       "      <th>Cylinders</th>\n",
       "      <th>Displacement</th>\n",
       "      <th>Horsepower</th>\n",
       "      <th>Weight</th>\n",
       "      <th>Acceleration</th>\n",
       "      <th>Model Year</th>\n",
       "      <th>US Made</th>\n",
       "    </tr>\n",
       "  </thead>\n",
       "  <tbody>\n",
       "    <tr>\n",
       "      <th>count</th>\n",
       "      <td>380.000000</td>\n",
       "      <td>380.000000</td>\n",
       "      <td>380.000000</td>\n",
       "      <td>380.000000</td>\n",
       "      <td>380.000000</td>\n",
       "      <td>380.000000</td>\n",
       "      <td>380.000000</td>\n",
       "      <td>380.000000</td>\n",
       "    </tr>\n",
       "    <tr>\n",
       "      <th>mean</th>\n",
       "      <td>23.492105</td>\n",
       "      <td>5.413158</td>\n",
       "      <td>188.855263</td>\n",
       "      <td>101.686842</td>\n",
       "      <td>2942.426316</td>\n",
       "      <td>15.260526</td>\n",
       "      <td>76.084211</td>\n",
       "      <td>0.618421</td>\n",
       "    </tr>\n",
       "    <tr>\n",
       "      <th>std</th>\n",
       "      <td>7.599989</td>\n",
       "      <td>1.678778</td>\n",
       "      <td>99.150655</td>\n",
       "      <td>34.122383</td>\n",
       "      <td>826.694251</td>\n",
       "      <td>2.591445</td>\n",
       "      <td>3.631911</td>\n",
       "      <td>0.486415</td>\n",
       "    </tr>\n",
       "    <tr>\n",
       "      <th>min</th>\n",
       "      <td>9.000000</td>\n",
       "      <td>3.000000</td>\n",
       "      <td>68.000000</td>\n",
       "      <td>46.000000</td>\n",
       "      <td>1613.000000</td>\n",
       "      <td>8.000000</td>\n",
       "      <td>70.000000</td>\n",
       "      <td>0.000000</td>\n",
       "    </tr>\n",
       "    <tr>\n",
       "      <th>25%</th>\n",
       "      <td>17.000000</td>\n",
       "      <td>4.000000</td>\n",
       "      <td>103.250000</td>\n",
       "      <td>75.000000</td>\n",
       "      <td>2220.000000</td>\n",
       "      <td>14.000000</td>\n",
       "      <td>73.000000</td>\n",
       "      <td>0.000000</td>\n",
       "    </tr>\n",
       "    <tr>\n",
       "      <th>50%</th>\n",
       "      <td>23.000000</td>\n",
       "      <td>4.000000</td>\n",
       "      <td>145.500000</td>\n",
       "      <td>92.000000</td>\n",
       "      <td>2764.500000</td>\n",
       "      <td>15.000000</td>\n",
       "      <td>76.000000</td>\n",
       "      <td>1.000000</td>\n",
       "    </tr>\n",
       "    <tr>\n",
       "      <th>75%</th>\n",
       "      <td>29.000000</td>\n",
       "      <td>6.000000</td>\n",
       "      <td>258.000000</td>\n",
       "      <td>120.000000</td>\n",
       "      <td>3542.000000</td>\n",
       "      <td>17.000000</td>\n",
       "      <td>79.000000</td>\n",
       "      <td>1.000000</td>\n",
       "    </tr>\n",
       "    <tr>\n",
       "      <th>max</th>\n",
       "      <td>46.000000</td>\n",
       "      <td>8.000000</td>\n",
       "      <td>429.000000</td>\n",
       "      <td>200.000000</td>\n",
       "      <td>5140.000000</td>\n",
       "      <td>23.000000</td>\n",
       "      <td>82.000000</td>\n",
       "      <td>1.000000</td>\n",
       "    </tr>\n",
       "  </tbody>\n",
       "</table>\n",
       "</div>"
      ],
      "text/plain": [
       "              MPG   Cylinders  Displacement  Horsepower       Weight  \\\n",
       "count  380.000000  380.000000    380.000000  380.000000   380.000000   \n",
       "mean    23.492105    5.413158    188.855263  101.686842  2942.426316   \n",
       "std      7.599989    1.678778     99.150655   34.122383   826.694251   \n",
       "min      9.000000    3.000000     68.000000   46.000000  1613.000000   \n",
       "25%     17.000000    4.000000    103.250000   75.000000  2220.000000   \n",
       "50%     23.000000    4.000000    145.500000   92.000000  2764.500000   \n",
       "75%     29.000000    6.000000    258.000000  120.000000  3542.000000   \n",
       "max     46.000000    8.000000    429.000000  200.000000  5140.000000   \n",
       "\n",
       "       Acceleration  Model Year     US Made  \n",
       "count    380.000000  380.000000  380.000000  \n",
       "mean      15.260526   76.084211    0.618421  \n",
       "std        2.591445    3.631911    0.486415  \n",
       "min        8.000000   70.000000    0.000000  \n",
       "25%       14.000000   73.000000    0.000000  \n",
       "50%       15.000000   76.000000    1.000000  \n",
       "75%       17.000000   79.000000    1.000000  \n",
       "max       23.000000   82.000000    1.000000  "
      ]
     },
     "execution_count": 20,
     "metadata": {},
     "output_type": "execute_result"
    }
   ],
   "source": [
    "df.describe()"
   ]
  },
  {
   "cell_type": "code",
   "execution_count": null,
   "id": "67d962d9",
   "metadata": {},
   "outputs": [],
   "source": [
    "#Part 2:\n",
    "#Build a linear regression model to accurately predict miles per gallon (MPG) based on the attributes of a vehicle. \n",
    "#Discuss the significant attributes and how they can help you build the proper car."
   ]
  },
  {
   "cell_type": "code",
   "execution_count": 24,
   "id": "4f2df999",
   "metadata": {},
   "outputs": [],
   "source": [
    "from sklearn.linear_model import LinearRegression\n",
    "from sklearn.model_selection import train_test_split"
   ]
  },
  {
   "cell_type": "code",
   "execution_count": 25,
   "id": "443995bb",
   "metadata": {},
   "outputs": [],
   "source": [
    "X = df.iloc[:, 1:8]\n",
    "y = df.iloc[:, 0]"
   ]
  },
  {
   "cell_type": "code",
   "execution_count": 26,
   "id": "f4fa3d8c",
   "metadata": {},
   "outputs": [],
   "source": [
    "#Train, test split, sets aside 25% of the samples in the original dataset for testing.\n",
    "X_train, X_test, y_train, y_test = train_test_split(X, y, random_state=1)"
   ]
  },
  {
   "cell_type": "code",
   "execution_count": 27,
   "id": "932b105a",
   "metadata": {},
   "outputs": [
    {
     "data": {
      "text/plain": [
       "LinearRegression()"
      ]
     },
     "execution_count": 27,
     "metadata": {},
     "output_type": "execute_result"
    }
   ],
   "source": [
    "# Apply multiple Linear Regression Model\n",
    "lreg = LinearRegression()\n",
    "lreg.fit(X_train, y_train)"
   ]
  },
  {
   "cell_type": "code",
   "execution_count": 28,
   "id": "e4ff2422",
   "metadata": {},
   "outputs": [],
   "source": [
    "# Generate Prediction on test set\n",
    "lreg_y_pred = lreg.predict(X_test)"
   ]
  },
  {
   "cell_type": "code",
   "execution_count": 29,
   "id": "80537f41",
   "metadata": {},
   "outputs": [
    {
     "name": "stdout",
     "output_type": "stream",
     "text": [
      "Mean squared Error on test set :  7.8689561362587925\n"
     ]
    }
   ],
   "source": [
    "# calculating Mean Squared Error (mse)\n",
    "mean_squared_error = np.mean((lreg_y_pred - y_test)**2)\n",
    "print(\"Mean squared Error on test set : \", mean_squared_error)"
   ]
  },
  {
   "cell_type": "code",
   "execution_count": 30,
   "id": "ecaea425",
   "metadata": {},
   "outputs": [
    {
     "name": "stdout",
     "output_type": "stream",
     "text": [
      "[-0.18294912  0.01986809 -0.04259865 -0.00637702 -0.03732718  0.75103161\n",
      " -2.78541728] 0.8165403901322276\n"
     ]
    }
   ],
   "source": [
    "#display regression coefficients and R-squared value of model\n",
    "print(lreg.coef_, lreg.score(X, y))"
   ]
  },
  {
   "cell_type": "code",
   "execution_count": 31,
   "id": "d87b1d8c",
   "metadata": {},
   "outputs": [],
   "source": [
    "import statsmodels.api as sm"
   ]
  },
  {
   "cell_type": "code",
   "execution_count": 32,
   "id": "2d90eb52",
   "metadata": {},
   "outputs": [
    {
     "name": "stdout",
     "output_type": "stream",
     "text": [
      "                                 OLS Regression Results                                \n",
      "=======================================================================================\n",
      "Dep. Variable:                    MPG   R-squared (uncentered):                   0.983\n",
      "Model:                            OLS   Adj. R-squared (uncentered):              0.982\n",
      "Method:                 Least Squares   F-statistic:                              2998.\n",
      "Date:                Tue, 04 Oct 2022   Prob (F-statistic):                   1.98e-323\n",
      "Time:                        20:16:41   Log-Likelihood:                         -988.57\n",
      "No. Observations:                 380   AIC:                                      1991.\n",
      "Df Residuals:                     373   BIC:                                      2019.\n",
      "Df Model:                           7                                                  \n",
      "Covariance Type:            nonrobust                                                  \n",
      "================================================================================\n",
      "                   coef    std err          t      P>|t|      [0.025      0.975]\n",
      "--------------------------------------------------------------------------------\n",
      "Cylinders       -0.3913      0.344     -1.139      0.255      -1.067       0.284\n",
      "Displacement     0.0217      0.009      2.544      0.011       0.005       0.038\n",
      "Horsepower      -0.0532      0.014     -3.780      0.000      -0.081      -0.026\n",
      "Weight          -0.0060      0.001     -8.414      0.000      -0.007      -0.005\n",
      "Acceleration    -0.1321      0.092     -1.436      0.152      -0.313       0.049\n",
      "Model Year       0.6335      0.023     27.208      0.000       0.588       0.679\n",
      "US Made         -2.5529      0.489     -5.226      0.000      -3.514      -1.592\n",
      "==============================================================================\n",
      "Omnibus:                       28.929   Durbin-Watson:                   1.286\n",
      "Prob(Omnibus):                  0.000   Jarque-Bera (JB):               44.560\n",
      "Skew:                           0.524   Prob(JB):                     2.11e-10\n",
      "Kurtosis:                       4.310   Cond. No.                     8.95e+03\n",
      "==============================================================================\n",
      "\n",
      "Notes:\n",
      "[1] R² is computed without centering (uncentered) since the model does not contain a constant.\n",
      "[2] Standard Errors assume that the covariance matrix of the errors is correctly specified.\n",
      "[3] The condition number is large, 8.95e+03. This might indicate that there are\n",
      "strong multicollinearity or other numerical problems.\n"
     ]
    }
   ],
   "source": [
    "#fit linear regression model\n",
    "model = sm.OLS(y, X).fit()\n",
    "#view model summary\n",
    "print(model.summary())"
   ]
  },
  {
   "cell_type": "code",
   "execution_count": null,
   "id": "829c1a1a",
   "metadata": {},
   "outputs": [],
   "source": [
    "#Part 3:\n",
    "#Optimize the model using selection techniques, \n",
    "#explain whether the model can achieve the specified goals, \n",
    "#and describe which attributes contribute to higher MPG over others."
   ]
  },
  {
   "cell_type": "code",
   "execution_count": 60,
   "id": "6879c274",
   "metadata": {},
   "outputs": [],
   "source": [
    "X = df.iloc[:, 1:8]\n",
    "y = df.iloc[:, 0]"
   ]
  },
  {
   "cell_type": "code",
   "execution_count": 61,
   "id": "115d92fb",
   "metadata": {},
   "outputs": [],
   "source": [
    "#drop columns\n",
    "X = X.drop(columns=['Cylinders'])"
   ]
  },
  {
   "cell_type": "code",
   "execution_count": 62,
   "id": "c52623d2",
   "metadata": {},
   "outputs": [
    {
     "name": "stdout",
     "output_type": "stream",
     "text": [
      "                                 OLS Regression Results                                \n",
      "=======================================================================================\n",
      "Dep. Variable:                    MPG   R-squared (uncentered):                   0.982\n",
      "Model:                            OLS   Adj. R-squared (uncentered):              0.982\n",
      "Method:                 Least Squares   F-statistic:                              3494.\n",
      "Date:                Tue, 04 Oct 2022   Prob (F-statistic):                        0.00\n",
      "Time:                        20:33:36   Log-Likelihood:                         -989.23\n",
      "No. Observations:                 380   AIC:                                      1990.\n",
      "Df Residuals:                     374   BIC:                                      2014.\n",
      "Df Model:                           6                                                  \n",
      "Covariance Type:            nonrobust                                                  \n",
      "================================================================================\n",
      "                   coef    std err          t      P>|t|      [0.025      0.975]\n",
      "--------------------------------------------------------------------------------\n",
      "Displacement     0.0149      0.006      2.443      0.015       0.003       0.027\n",
      "Horsepower      -0.0552      0.014     -3.942      0.000      -0.083      -0.028\n",
      "Weight          -0.0059      0.001     -8.348      0.000      -0.007      -0.005\n",
      "Acceleration    -0.1462      0.091     -1.603      0.110      -0.326       0.033\n",
      "Model Year       0.6248      0.022     28.382      0.000       0.582       0.668\n",
      "US Made         -2.4744      0.484     -5.114      0.000      -3.426      -1.523\n",
      "==============================================================================\n",
      "Omnibus:                       28.976   Durbin-Watson:                   1.281\n",
      "Prob(Omnibus):                  0.000   Jarque-Bera (JB):               44.274\n",
      "Skew:                           0.528   Prob(JB):                     2.43e-10\n",
      "Kurtosis:                       4.297   Cond. No.                     8.78e+03\n",
      "==============================================================================\n",
      "\n",
      "Notes:\n",
      "[1] R² is computed without centering (uncentered) since the model does not contain a constant.\n",
      "[2] Standard Errors assume that the covariance matrix of the errors is correctly specified.\n",
      "[3] The condition number is large, 8.78e+03. This might indicate that there are\n",
      "strong multicollinearity or other numerical problems.\n"
     ]
    }
   ],
   "source": [
    "#fit linear regression model\n",
    "model = sm.OLS(y, X).fit()\n",
    "#view model summary\n",
    "print(model.summary())"
   ]
  },
  {
   "cell_type": "code",
   "execution_count": 63,
   "id": "52d287a1",
   "metadata": {},
   "outputs": [],
   "source": [
    "#drop columns\n",
    "X = X.drop(columns=['Acceleration'])"
   ]
  },
  {
   "cell_type": "code",
   "execution_count": 40,
   "id": "158dbc35",
   "metadata": {},
   "outputs": [
    {
     "name": "stdout",
     "output_type": "stream",
     "text": [
      "                                 OLS Regression Results                                \n",
      "=======================================================================================\n",
      "Dep. Variable:                    MPG   R-squared (uncentered):                   0.982\n",
      "Model:                            OLS   Adj. R-squared (uncentered):              0.982\n",
      "Method:                 Least Squares   F-statistic:                              4175.\n",
      "Date:                Tue, 04 Oct 2022   Prob (F-statistic):                        0.00\n",
      "Time:                        20:25:59   Log-Likelihood:                         -990.53\n",
      "No. Observations:                 380   AIC:                                      1991.\n",
      "Df Residuals:                     375   BIC:                                      2011.\n",
      "Df Model:                           5                                                  \n",
      "Covariance Type:            nonrobust                                                  \n",
      "================================================================================\n",
      "                   coef    std err          t      P>|t|      [0.025      0.975]\n",
      "--------------------------------------------------------------------------------\n",
      "Displacement     0.0167      0.006      2.781      0.006       0.005       0.029\n",
      "Horsepower      -0.0425      0.012     -3.670      0.000      -0.065      -0.020\n",
      "Weight          -0.0065      0.001    -10.418      0.000      -0.008      -0.005\n",
      "Model Year       0.5956      0.012     48.238      0.000       0.571       0.620\n",
      "US Made         -2.4691      0.485     -5.093      0.000      -3.422      -1.516\n",
      "==============================================================================\n",
      "Omnibus:                       27.514   Durbin-Watson:                   1.269\n",
      "Prob(Omnibus):                  0.000   Jarque-Bera (JB):               39.923\n",
      "Skew:                           0.525   Prob(JB):                     2.14e-09\n",
      "Kurtosis:                       4.192   Cond. No.                     8.78e+03\n",
      "==============================================================================\n",
      "\n",
      "Notes:\n",
      "[1] R² is computed without centering (uncentered) since the model does not contain a constant.\n",
      "[2] Standard Errors assume that the covariance matrix of the errors is correctly specified.\n",
      "[3] The condition number is large, 8.78e+03. This might indicate that there are\n",
      "strong multicollinearity or other numerical problems.\n"
     ]
    }
   ],
   "source": [
    "#fit linear regression model\n",
    "model = sm.OLS(y, X).fit()\n",
    "#view model summary\n",
    "print(model.summary())"
   ]
  },
  {
   "cell_type": "code",
   "execution_count": 64,
   "id": "e21c021a",
   "metadata": {},
   "outputs": [],
   "source": [
    "#drop columns\n",
    "X = X.drop(columns=['Displacement'])"
   ]
  },
  {
   "cell_type": "code",
   "execution_count": 65,
   "id": "caea0f88",
   "metadata": {},
   "outputs": [
    {
     "name": "stdout",
     "output_type": "stream",
     "text": [
      "                                 OLS Regression Results                                \n",
      "=======================================================================================\n",
      "Dep. Variable:                    MPG   R-squared (uncentered):                   0.982\n",
      "Model:                            OLS   Adj. R-squared (uncentered):              0.982\n",
      "Method:                 Least Squares   F-statistic:                              5125.\n",
      "Date:                Tue, 04 Oct 2022   Prob (F-statistic):                        0.00\n",
      "Time:                        20:34:03   Log-Likelihood:                         -994.41\n",
      "No. Observations:                 380   AIC:                                      1997.\n",
      "Df Residuals:                     376   BIC:                                      2013.\n",
      "Df Model:                           4                                                  \n",
      "Covariance Type:            nonrobust                                                  \n",
      "==============================================================================\n",
      "                 coef    std err          t      P>|t|      [0.025      0.975]\n",
      "------------------------------------------------------------------------------\n",
      "Horsepower    -0.0288      0.011     -2.723      0.007      -0.050      -0.008\n",
      "Weight        -0.0054      0.000    -11.309      0.000      -0.006      -0.004\n",
      "Model Year     0.5698      0.008     69.330      0.000       0.554       0.586\n",
      "US Made       -1.8736      0.439     -4.269      0.000      -2.737      -1.011\n",
      "==============================================================================\n",
      "Omnibus:                       34.636   Durbin-Watson:                   1.235\n",
      "Prob(Omnibus):                  0.000   Jarque-Bera (JB):               55.960\n",
      "Skew:                           0.592   Prob(JB):                     7.05e-13\n",
      "Kurtosis:                       4.461   Cond. No.                     7.86e+03\n",
      "==============================================================================\n",
      "\n",
      "Notes:\n",
      "[1] R² is computed without centering (uncentered) since the model does not contain a constant.\n",
      "[2] Standard Errors assume that the covariance matrix of the errors is correctly specified.\n",
      "[3] The condition number is large, 7.86e+03. This might indicate that there are\n",
      "strong multicollinearity or other numerical problems.\n"
     ]
    }
   ],
   "source": [
    "#fit linear regression model\n",
    "model = sm.OLS(y, X).fit()\n",
    "#view model summary\n",
    "print(model.summary())"
   ]
  },
  {
   "cell_type": "code",
   "execution_count": 66,
   "id": "77ddab78",
   "metadata": {},
   "outputs": [],
   "source": [
    "#drop columns\n",
    "X = X.drop(columns=['Horsepower'])"
   ]
  },
  {
   "cell_type": "code",
   "execution_count": 67,
   "id": "37386f1a",
   "metadata": {},
   "outputs": [
    {
     "name": "stdout",
     "output_type": "stream",
     "text": [
      "                                 OLS Regression Results                                \n",
      "=======================================================================================\n",
      "Dep. Variable:                    MPG   R-squared (uncentered):                   0.982\n",
      "Model:                            OLS   Adj. R-squared (uncentered):              0.981\n",
      "Method:                 Least Squares   F-statistic:                              6716.\n",
      "Date:                Tue, 04 Oct 2022   Prob (F-statistic):                        0.00\n",
      "Time:                        20:35:08   Log-Likelihood:                         -998.12\n",
      "No. Observations:                 380   AIC:                                      2002.\n",
      "Df Residuals:                     377   BIC:                                      2014.\n",
      "Df Model:                           3                                                  \n",
      "Covariance Type:            nonrobust                                                  \n",
      "==============================================================================\n",
      "                 coef    std err          t      P>|t|      [0.025      0.975]\n",
      "------------------------------------------------------------------------------\n",
      "Weight        -0.0065      0.000    -26.157      0.000      -0.007      -0.006\n",
      "Model Year     0.5730      0.008     69.891      0.000       0.557       0.589\n",
      "US Made       -1.7543      0.440     -3.984      0.000      -2.620      -0.888\n",
      "==============================================================================\n",
      "Omnibus:                       40.759   Durbin-Watson:                   1.214\n",
      "Prob(Omnibus):                  0.000   Jarque-Bera (JB):               76.138\n",
      "Skew:                           0.626   Prob(JB):                     2.93e-17\n",
      "Kurtosis:                       4.801   Cond. No.                     7.81e+03\n",
      "==============================================================================\n",
      "\n",
      "Notes:\n",
      "[1] R² is computed without centering (uncentered) since the model does not contain a constant.\n",
      "[2] Standard Errors assume that the covariance matrix of the errors is correctly specified.\n",
      "[3] The condition number is large, 7.81e+03. This might indicate that there are\n",
      "strong multicollinearity or other numerical problems.\n"
     ]
    }
   ],
   "source": [
    "#fit linear regression model\n",
    "model = sm.OLS(y, X).fit()\n",
    "#view model summary\n",
    "print(model.summary())"
   ]
  }
 ],
 "metadata": {
  "kernelspec": {
   "display_name": "Python 3 (ipykernel)",
   "language": "python",
   "name": "python3"
  },
  "language_info": {
   "codemirror_mode": {
    "name": "ipython",
    "version": 3
   },
   "file_extension": ".py",
   "mimetype": "text/x-python",
   "name": "python",
   "nbconvert_exporter": "python",
   "pygments_lexer": "ipython3",
   "version": "3.9.7"
  }
 },
 "nbformat": 4,
 "nbformat_minor": 5
}
